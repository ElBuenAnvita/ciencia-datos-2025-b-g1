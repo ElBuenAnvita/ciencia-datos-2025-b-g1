{
 "cells": [
  {
   "cell_type": "markdown",
   "id": "8f8dd248",
   "metadata": {},
   "source": [
    "# Taller 1: Introducción a la Ciencia de Datos\n",
    "\n",
    "| **Autor** | José G. Andrade V. |\n",
    "| --- | --- |\n",
    "| **Fecha** | 2025-08-23 |\n",
    "| **Materia** | Ciencia de Datos |"
   ]
  },
  {
   "cell_type": "markdown",
   "id": "97493920",
   "metadata": {},
   "source": [
    "## 1. Definición de Ciencia de Datos\n",
    "La **Ciencia de Datos** es un campo interdisciplinario que utiliza métodos científicos, procesos, algoritmos y sistemas para extraer conocimiento e insights de datos estructurados y no estructurados. Combina dominios como la estadística, la informática y el conocimiento del negocio para analizar datos y descubrir patrones ocultos. El objetivo principal es tomar decisiones más inteligentes y estratégicas basadas en la evidencia que proporcionan los datos. 📊\n",
    "\n",
    "En esencia, la ciencia de datos busca responder preguntas y resolver problemas complejos mediante el análisis de grandes volúmenes de información, transformando los datos brutos en acciones y estrategias concretas.\n",
    "\n",
    "***\n",
    "*Fuente: IBM. (2023). ¿Qué es la ciencia de datos?*\n",
    "***"
   ]
  },
  {
   "cell_type": "markdown",
   "id": "5f00c7d0",
   "metadata": {},
   "source": [
    "## 2. Roles en la Ciencia de Datos\n",
    "\n",
    "El campo de la ciencia de datos es colaborativo y abarca varios roles especializados. Aunque las responsabilidades pueden variar entre organizaciones, los roles más comunes son:\n",
    "\n",
    "* **Científico de Datos (Data Scientist):** Es el rol más conocido. Se encarga de limpiar, analizar e interpretar grandes conjuntos de datos. Utilizan modelos de aprendizaje automático (machine learning) y estadísticos para hacer predicciones y responder a preguntas complejas del negocio.\n",
    "\n",
    "* **Analista de Datos (Data Analyst):** Se enfoca en recopilar, procesar e interpretar datos para identificar tendencias y patrones. Su trabajo es fundamental para que las empresas tomen decisiones basadas en la información. Suelen presentar sus hallazgos en informes y visualizaciones.\n",
    "\n",
    "* **Ingeniero de Datos (Data Engineer):** Construye y mantiene la infraestructura y las arquitecturas de datos. Se aseguran de que los datos fluyan de manera eficiente y estén disponibles y accesibles para los científicos y analistas de datos. Son los arquitectos de los sistemas de datos.\n",
    "\n",
    "* **Ingeniero de Machine Learning (Machine Learning Engineer):** Es un rol más especializado que se sitúa entre la ciencia de datos y la ingeniería de software. Se encargan de llevar los modelos de machine learning desarrollados por los científicos de datos a entornos de producción, escalándolos y optimizándolos.\n",
    "\n",
    "* **Arquitecto de Datos (Data Architect):** Diseña los planos para la gestión de datos de una organización. Se asegura de que las bases de datos y los sistemas estén bien estructurados, seguros y sean eficientes.\n",
    "\n",
    "***\n",
    "*Fuente: Coursera. (2023). 6 Common Data Science Careers and How to Get Started.*\n",
    "***\n"
   ]
  },
  {
   "cell_type": "markdown",
   "id": "04f0ddd8",
   "metadata": {},
   "source": [
    "## 3. ¿Qué son los dataset?\n",
    "Un **dataset** (o conjunto de datos) es una colección estructurada de datos. Generalmente, se presenta en formato tabular, donde cada **fila** corresponde a una observación o registro individual (por ejemplo, un cliente, un producto, una transacción) y cada **columna** representa una variable o atributo específico de esa observación (por ejemplo, edad, precio, fecha). 📝\n",
    "\n",
    "Los datasets son la materia prima fundamental en la ciencia de datos. Sobre ellos se realizan los análisis, se entrenan los modelos de machine learning y se extraen los insights. Pueden variar enormemente en tamaño, desde unas pocas docenas de registros en una hoja de cálculo hasta miles de millones de registros distribuidos en múltiples bases de datos.\n",
    "\n",
    "Un ejemplo simple de un dataset podría ser una tabla con información de estudiantes:\n",
    "\n",
    "| Nombre | Edad | Calificación |\n",
    "| :--- | :--: | :---: |\n",
    "| Ana | 21 | 8.5 |\n",
    "| Juan | 22 | 9.0 |\n",
    "| María | 20 | 7.8 |\n",
    "\n",
    "***\n",
    "*Fuente: Google Cloud. (s.f.). ¿Qué es un conjunto de datos?*\n",
    "***"
   ]
  },
  {
   "cell_type": "markdown",
   "id": "8324c9e7",
   "metadata": {},
   "source": [
    "## 4. Lineas de código que permite cargar un (`.xls`, `.xlsx`, `.csv` u otro formato de data); Luego pasar este documento a un `dataframe` (df)\n",
    "Vamos a aprender cómo cargar diferentes tipos de archivos de datos (.csv, .xlsx, .xls) en un DataFrame de Python. Para esto, usaremos la librería `pandas`. Si no está instalada en el equipo donde estás ejecutando esto, abre una terminal o consola y ejecuta:\n",
    "\n",
    "```\n",
    "pip install pandas openpyxl\n",
    "```\n",
    "> **Nota:** Si estás en el entorno de _Google Colab_ no necesitas hacer esto. Ya está instalada por defecto para ti.\n",
    "\n",
    "> `openpyxl` es necesario para que pandas pueda leer archivos de Excel (`.xlsx`, `.xls`).\n",
    "\n",
    "### 4.1. Importación de librería\n",
    "Importaremos pandas para empezar, lo renombraremos como `pd` por comodidad."
   ]
  },
  {
   "cell_type": "code",
   "execution_count": 1,
   "id": "646e87a4",
   "metadata": {},
   "outputs": [],
   "source": [
    "import pandas as pd"
   ]
  },
  {
   "cell_type": "markdown",
   "id": "dca58c76",
   "metadata": {},
   "source": [
    "### 4.2. Cargar un archivo\n",
    "#### CSV\n",
    "Los archivos CSV (Valores Separados por Comas) son uno de los formatos más comunes para guardar datos. Cada línea del archivo es una fila de datos y los valores están separados por una coma."
   ]
  },
  {
   "cell_type": "code",
   "execution_count": null,
   "id": "6f85cbdb",
   "metadata": {},
   "outputs": [],
   "source": [
    "# Definimos la ruta donde se encuentra nuestro archivo CSV\n",
    "ruta_csv = 'datos/mi_archivo.csv'\n",
    "# ^^^^^ En colab debes subir el archivo a la carpeta content/ y\n",
    "#       solo necesitarías especificar el nombre del archivo, no la ruta entera.\n",
    "\n",
    "# Usamos pd.read_csv para cargar el archivo en un DataFrame\n",
    "df_csv = pd.read_csv(ruta_csv)"
   ]
  },
  {
   "cell_type": "markdown",
   "id": "c26ec2d3",
   "metadata": {},
   "source": [
    "#### Excel\n",
    "Para cargar archivos de Excel, usamos la función pd.read_excel(). Funciona tanto para los formatos modernos `.xlsx` como para los más antiguos `.xls`."
   ]
  },
  {
   "cell_type": "code",
   "execution_count": null,
   "id": "f7cda385",
   "metadata": {},
   "outputs": [],
   "source": [
    "# Definimos la ruta donde se encuentra nuestro archivo de Excel\n",
    "ruta_excel = 'datos/mi_archivo.xlsx'\n",
    "\n",
    "# Usamos pd.read_excel para cargar el archivo en un DataFrame\n",
    "df_excel = pd.read_excel(ruta_excel)"
   ]
  },
  {
   "cell_type": "markdown",
   "id": "85837ad6",
   "metadata": {},
   "source": [
    "#### Otros formatos\n",
    "Pandas es muy versátil y puede leer muchos otros formatos. La estructura del código es muy similar, solo cambia la función que se utiliza.\n",
    "* **JSON (.json):** Usa `pd.read_json()`.\n",
    "* **Archivos de texto de ancho fijo (.txt, .fwf):** Usa `pd.read_fwf()`.\n",
    "* **Desde el portapapeles:** Usa `pd.read_clipboard()` (Debes tener en el portapapeles el contenido de un CSV para que funcione)."
   ]
  },
  {
   "cell_type": "markdown",
   "id": "f1258365",
   "metadata": {},
   "source": [
    "## 5. Generar una gráfica con el anterior `df`\n",
    "\n",
    "Antes de continuar, se debe tener instalados los paquetes de Python `matplotlib` `seaborn`. Se instalan también con el comando `pip install` de más arriba."
   ]
  },
  {
   "cell_type": "code",
   "execution_count": 2,
   "id": "af4849e9",
   "metadata": {},
   "outputs": [],
   "source": [
    "# Empezaremos importando los paquetes que nos faltan\n",
    "import matplotlib.pyplot as plt\n",
    "import seaborn as sns"
   ]
  },
  {
   "cell_type": "code",
   "execution_count": 3,
   "id": "208563c6",
   "metadata": {},
   "outputs": [],
   "source": [
    "# Cargue de datos\n",
    "df = pd.read_csv('ventas_mensuales.csv')"
   ]
  },
  {
   "cell_type": "code",
   "execution_count": 4,
   "id": "62657ea4",
   "metadata": {},
   "outputs": [
    {
     "name": "stdout",
     "output_type": "stream",
     "text": [
      "      Producto Region  Ventas\n",
      "0      Laptops  Norte   44000\n",
      "1      Laptops    Sur   41000\n",
      "2  Smartphones  Norte   78000\n",
      "3  Smartphones    Sur   71500\n"
     ]
    }
   ],
   "source": [
    "# Agrupamos los datos para obtener el total de ventas por producto y región\n",
    "ventas_agrupadas = df.groupby(['Producto', 'Region'])['Ventas'].sum().reset_index()\n",
    "print(ventas_agrupadas) # Datos agrupados para la gráfica..."
   ]
  },
  {
   "cell_type": "code",
   "execution_count": 8,
   "id": "9eb5bef3",
   "metadata": {},
   "outputs": [
    {
     "data": {
      "image/png": "[encoded data removed]",
      "text/plain": [
       "<Figure size 1000x600 with 1 Axes>"
      ]
     },
     "metadata": {},
     "output_type": "display_data"
    }
   ],
   "source": [
    "# Generación de gráfica\n",
    "fig, ax = plt.subplots(figsize=(10, 6)) # Creamos la figura y los ejes\n",
    "\n",
    "# Usamos seaborn para crear un gráfico de barras.\n",
    "# x: El eje horizontal (Producto)\n",
    "# y: El eje vertical (Ventas)\n",
    "# hue: Permite diferenciar las barras por una tercera categoría (Region)\n",
    "sns.barplot(data=ventas_agrupadas, x='Producto', y='Ventas', hue='Region', ax=ax, palette='viridis')\n",
    "\n",
    "# Esto ya es para que se vea wonita (y contextualizada :P)\n",
    "ax.set_title('Total de Ventas por Producto y Región', fontsize=16)\n",
    "ax.set_xlabel('Producto', fontsize=12)\n",
    "ax.set_ylabel('Ventas (USD)', fontsize=12)\n",
    "ax.tick_params(axis='x', rotation=0) # Evita que las etiquetas del eje x se roten\n",
    "ax.legend(title='Región') # Título de la leyenda\n",
    "\n",
    "plt.tight_layout() # Ajusta la gráfica para que todo encaje bien\n",
    "\n",
    "# Esto es más que nada por si ejecutas esta vuelta en una cosa que no sea un pc\n",
    "# Guarda la imagen en el directorio actual con el nombre que le proporciones.\n",
    "# plt.savefig('grafica_ventas.png')\n",
    "\n",
    "plt.show() # Muestra el gráfico :O"
   ]
  }
 ],
 "metadata": {
  "kernelspec": {
   "display_name": "base",
   "language": "python",
   "name": "python3"
  },
  "language_info": {
   "codemirror_mode": {
    "name": "ipython",
    "version": 3
   },
   "file_extension": ".py",
   "mimetype": "text/x-python",
   "name": "python",
   "nbconvert_exporter": "python",
   "pygments_lexer": "ipython3",
   "version": "3.13.5"
  }
 },
 "nbformat": 4,
 "nbformat_minor": 5
}
